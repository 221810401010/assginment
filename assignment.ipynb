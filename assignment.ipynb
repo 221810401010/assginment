{
 "cells": [
  {
   "cell_type": "code",
   "execution_count": 1,
   "metadata": {},
   "outputs": [
    {
     "name": "stdout",
     "output_type": "stream",
     "text": [
      "15 34 31 28 4 "
     ]
    }
   ],
   "source": [
    "\n",
    "def linearSearch5(li):\n",
    "    for x in range(len(li)):\n",
    "        if x ==0 or x == len(li) -1:\n",
    "            print(li[x],end=\" \")\n",
    "        else:\n",
    "            print(li[x-1]+li[x],end=\" \")\n",
    "    return\n",
    "li = [15,19,12,16,4]\n",
    "linearSearch5(li)"
   ]
  },
  {
   "cell_type": "code",
   "execution_count": 2,
   "metadata": {},
   "outputs": [
    {
     "data": {
      "text/plain": [
       "[1, 4, 3, 16, 5]"
      ]
     },
     "execution_count": 2,
     "metadata": {},
     "output_type": "execute_result"
    }
   ],
   "source": [
    "# 1) [1,4,5,6,9] - 14569\n",
    "def convert(s):\n",
    "    x=0\n",
    "    for i in range(len(s)):\n",
    "        x=x*10+s[i]\n",
    "    return x\n",
    "s=[1,4,5,6,9]\n",
    "convert(s)\n",
    "\n",
    "\n",
    "# 2) [1,4,5,6,9]  - 46 (Consider only even numbers from list)\n",
    "def even(s):\n",
    "    x=0\n",
    "    for i in range(len(s)):\n",
    "        if s[i]%2==0:\n",
    "            x=x*10+s[i]\n",
    "    return x\n",
    "s=[1,4,5,6,9]\n",
    "even(s)\n",
    "\n",
    "\n",
    "# 3. [1,2,3,4,5] - [1,4,3,16,5] (Consider only even number and square of it)\n",
    "def square(s):\n",
    "    for i in range (len(s)):\n",
    "        if s[i]%2==0:\n",
    "            s[i]=s[i]**2\n",
    "    return s\n",
    "s=[1,2,3,4,5]\n",
    "square(s)"
   ]
  },
  {
   "cell_type": "code",
   "execution_count": 3,
   "metadata": {},
   "outputs": [
    {
     "data": {
      "text/plain": [
       "[1, 2, 3, 4, 5, 6]"
      ]
     },
     "execution_count": 3,
     "metadata": {},
     "output_type": "execute_result"
    }
   ],
   "source": [
    "#String to list\n",
    "#input will be string\n",
    "#.Expected output will be list\n",
    "# Function to convert string to list\n",
    "# Test case\n",
    "# \"1 2 3 4 5 6\" --[1,2,3,4,5,6]\n",
    "\n",
    "def strintToListConversion(s):\n",
    "    li=s.split()\n",
    "    numberslist =[]\n",
    "    for i in li:\n",
    "        numberslist.append(int(i))\n",
    "    return numberslist\n",
    "s=\"1 2 3 4 5 6\"\n",
    "strintToListConversion(s) #[1,2,3,4,5,6]"
   ]
  },
  {
   "cell_type": "code",
   "execution_count": null,
   "metadata": {},
   "outputs": [],
   "source": []
  }
 ],
 "metadata": {
  "kernelspec": {
   "display_name": "Python 3",
   "language": "python",
   "name": "python3"
  },
  "language_info": {
   "codemirror_mode": {
    "name": "ipython",
    "version": 3
   },
   "file_extension": ".py",
   "mimetype": "text/x-python",
   "name": "python",
   "nbconvert_exporter": "python",
   "pygments_lexer": "ipython3",
   "version": "3.7.3"
  }
 },
 "nbformat": 4,
 "nbformat_minor": 2
}
